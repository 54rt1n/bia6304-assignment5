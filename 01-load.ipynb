{
 "cells": [
  {
   "cell_type": "code",
   "execution_count": 1,
   "metadata": {},
   "outputs": [],
   "source": [
    "from assignment.dqm import DocumentQueryModel\n",
    "from assignment.config import ChatConfig\n",
    "\n",
    "config = ChatConfig(\n",
    "    embedding_model=\"BAAI/bge-small-en-v1.5\",\n",
    "    db_path=\"notebook.pkl\", # \n",
    ")\n",
    "\n",
    "dqm = DocumentQueryModel.from_config(config)"
   ]
  },
  {
   "cell_type": "code",
   "execution_count": 2,
   "metadata": {},
   "outputs": [
    {
     "data": {
      "text/html": [
       "<div>\n",
       "<style scoped>\n",
       "    .dataframe tbody tr th:only-of-type {\n",
       "        vertical-align: middle;\n",
       "    }\n",
       "\n",
       "    .dataframe tbody tr th {\n",
       "        vertical-align: top;\n",
       "    }\n",
       "\n",
       "    .dataframe thead th {\n",
       "        text-align: right;\n",
       "    }\n",
       "</style>\n",
       "<table border=\"1\" class=\"dataframe\">\n",
       "  <thead>\n",
       "    <tr style=\"text-align: right;\">\n",
       "      <th></th>\n",
       "      <th>embedding</th>\n",
       "      <th>content</th>\n",
       "    </tr>\n",
       "    <tr>\n",
       "      <th>doc_id</th>\n",
       "      <th></th>\n",
       "      <th></th>\n",
       "    </tr>\n",
       "  </thead>\n",
       "  <tbody>\n",
       "  </tbody>\n",
       "</table>\n",
       "</div>"
      ],
      "text/plain": [
       "Empty DataFrame\n",
       "Columns: [embedding, content]\n",
       "Index: []"
      ]
     },
     "execution_count": 2,
     "metadata": {},
     "output_type": "execute_result"
    }
   ],
   "source": [
    "dqm.data"
   ]
  },
  {
   "cell_type": "code",
   "execution_count": 5,
   "metadata": {},
   "outputs": [],
   "source": [
    "dqm.load_jsonl(\"assets/areas_results.02.jsonl\", id_key=\"area_id\", content_key=\"summary\")"
   ]
  },
  {
   "cell_type": "code",
   "execution_count": 6,
   "metadata": {},
   "outputs": [],
   "source": [
    "dqm.save()"
   ]
  },
  {
   "cell_type": "code",
   "execution_count": 7,
   "metadata": {},
   "outputs": [
    {
     "data": {
      "text/html": [
       "<div>\n",
       "<style scoped>\n",
       "    .dataframe tbody tr th:only-of-type {\n",
       "        vertical-align: middle;\n",
       "    }\n",
       "\n",
       "    .dataframe tbody tr th {\n",
       "        vertical-align: top;\n",
       "    }\n",
       "\n",
       "    .dataframe thead th {\n",
       "        text-align: right;\n",
       "    }\n",
       "</style>\n",
       "<table border=\"1\" class=\"dataframe\">\n",
       "  <thead>\n",
       "    <tr style=\"text-align: right;\">\n",
       "      <th></th>\n",
       "      <th>embedding</th>\n",
       "      <th>content</th>\n",
       "      <th>distance</th>\n",
       "    </tr>\n",
       "    <tr>\n",
       "      <th>doc_id</th>\n",
       "      <th></th>\n",
       "      <th></th>\n",
       "      <th></th>\n",
       "    </tr>\n",
       "  </thead>\n",
       "  <tbody>\n",
       "    <tr>\n",
       "      <th>bolivar-forestry-office</th>\n",
       "      <td>[0.41314512, 0.064903684, 0.72619617, -0.27958...</td>\n",
       "      <td>The Bolivar Forestry Office, located at 412 Ki...</td>\n",
       "      <td>0.741091</td>\n",
       "    </tr>\n",
       "    <tr>\n",
       "      <th>f-o-leda-j-sears-memorial-wildlife-area</th>\n",
       "      <td>[-0.0059427917, -0.19846703, 0.15546122, -0.15...</td>\n",
       "      <td>The F.O. and Leda J. Sears Memorial Wildlife A...</td>\n",
       "      <td>0.597381</td>\n",
       "    </tr>\n",
       "    <tr>\n",
       "      <th>wayne-helton-memorial-wildlife-area</th>\n",
       "      <td>[0.41297758, -0.19599836, 0.7512408, -0.129524...</td>\n",
       "      <td>The Wayne Helton Memorial Wildlife Area, nestl...</td>\n",
       "      <td>0.553851</td>\n",
       "    </tr>\n",
       "    <tr>\n",
       "      <th>neosho-towersite</th>\n",
       "      <td>[0.1306735, -0.025640246, 0.5525547, 0.2715156...</td>\n",
       "      <td>The Neosho Towersite is a remarkable conservat...</td>\n",
       "      <td>0.552376</td>\n",
       "    </tr>\n",
       "    <tr>\n",
       "      <th>busiek-state-forest-wildlife-area</th>\n",
       "      <td>[0.49412364, 0.28670996, 0.748999, -0.52119184...</td>\n",
       "      <td>The Busiek State Forest and Wildlife Area, nes...</td>\n",
       "      <td>0.550122</td>\n",
       "    </tr>\n",
       "  </tbody>\n",
       "</table>\n",
       "</div>"
      ],
      "text/plain": [
       "                                                                                 embedding  \\\n",
       "doc_id                                                                                       \n",
       "bolivar-forestry-office                  [0.41314512, 0.064903684, 0.72619617, -0.27958...   \n",
       "f-o-leda-j-sears-memorial-wildlife-area  [-0.0059427917, -0.19846703, 0.15546122, -0.15...   \n",
       "wayne-helton-memorial-wildlife-area      [0.41297758, -0.19599836, 0.7512408, -0.129524...   \n",
       "neosho-towersite                         [0.1306735, -0.025640246, 0.5525547, 0.2715156...   \n",
       "busiek-state-forest-wildlife-area        [0.49412364, 0.28670996, 0.748999, -0.52119184...   \n",
       "\n",
       "                                                                                   content  \\\n",
       "doc_id                                                                                       \n",
       "bolivar-forestry-office                  The Bolivar Forestry Office, located at 412 Ki...   \n",
       "f-o-leda-j-sears-memorial-wildlife-area  The F.O. and Leda J. Sears Memorial Wildlife A...   \n",
       "wayne-helton-memorial-wildlife-area      The Wayne Helton Memorial Wildlife Area, nestl...   \n",
       "neosho-towersite                         The Neosho Towersite is a remarkable conservat...   \n",
       "busiek-state-forest-wildlife-area        The Busiek State Forest and Wildlife Area, nes...   \n",
       "\n",
       "                                         distance  \n",
       "doc_id                                             \n",
       "bolivar-forestry-office                  0.741091  \n",
       "f-o-leda-j-sears-memorial-wildlife-area  0.597381  \n",
       "wayne-helton-memorial-wildlife-area      0.553851  \n",
       "neosho-towersite                         0.552376  \n",
       "busiek-state-forest-wildlife-area        0.550122  "
      ]
     },
     "execution_count": 7,
     "metadata": {},
     "output_type": "execute_result"
    }
   ],
   "source": [
    "dqm.query(\"Bolivar\")"
   ]
  },
  {
   "cell_type": "code",
   "execution_count": 8,
   "metadata": {},
   "outputs": [
    {
     "data": {
      "text/html": [
       "<div>\n",
       "<style scoped>\n",
       "    .dataframe tbody tr th:only-of-type {\n",
       "        vertical-align: middle;\n",
       "    }\n",
       "\n",
       "    .dataframe tbody tr th {\n",
       "        vertical-align: top;\n",
       "    }\n",
       "\n",
       "    .dataframe thead th {\n",
       "        text-align: right;\n",
       "    }\n",
       "</style>\n",
       "<table border=\"1\" class=\"dataframe\">\n",
       "  <thead>\n",
       "    <tr style=\"text-align: right;\">\n",
       "      <th></th>\n",
       "      <th>embedding</th>\n",
       "      <th>content</th>\n",
       "      <th>distance</th>\n",
       "    </tr>\n",
       "    <tr>\n",
       "      <th>doc_id</th>\n",
       "      <th></th>\n",
       "      <th></th>\n",
       "      <th></th>\n",
       "    </tr>\n",
       "  </thead>\n",
       "  <tbody>\n",
       "    <tr>\n",
       "      <th>fort-leonard-wood-towersite</th>\n",
       "      <td>[0.29793665, -0.025362639, 0.44242504, 0.20775...</td>\n",
       "      <td>Fort Leonard Wood Towersite, a captivating 66....</td>\n",
       "      <td>0.683900</td>\n",
       "    </tr>\n",
       "    <tr>\n",
       "      <th>montauk-towersite</th>\n",
       "      <td>[0.08950254, 0.16055754, 0.38774306, -0.048445...</td>\n",
       "      <td>Montauk Towersite, located in the heart of pic...</td>\n",
       "      <td>0.673691</td>\n",
       "    </tr>\n",
       "    <tr>\n",
       "      <th>summersville-towersite</th>\n",
       "      <td>[-0.119541675, 0.045498975, 0.22309905, 0.4194...</td>\n",
       "      <td>The Summersville Tower site, nestled within th...</td>\n",
       "      <td>0.672326</td>\n",
       "    </tr>\n",
       "    <tr>\n",
       "      <th>powell-towersite</th>\n",
       "      <td>[0.18369234, 0.036402147, 0.5894207, 0.2223520...</td>\n",
       "      <td>Powell Towersite, nestled in the heart of Miss...</td>\n",
       "      <td>0.666780</td>\n",
       "    </tr>\n",
       "    <tr>\n",
       "      <th>mount-hulda-towersite</th>\n",
       "      <td>[-0.08747101, 0.015304513, 0.42483646, 0.36700...</td>\n",
       "      <td>Nestled within the lush landscapes of Missouri...</td>\n",
       "      <td>0.665762</td>\n",
       "    </tr>\n",
       "  </tbody>\n",
       "</table>\n",
       "</div>"
      ],
      "text/plain": [
       "                                                                     embedding  \\\n",
       "doc_id                                                                           \n",
       "fort-leonard-wood-towersite  [0.29793665, -0.025362639, 0.44242504, 0.20775...   \n",
       "montauk-towersite            [0.08950254, 0.16055754, 0.38774306, -0.048445...   \n",
       "summersville-towersite       [-0.119541675, 0.045498975, 0.22309905, 0.4194...   \n",
       "powell-towersite             [0.18369234, 0.036402147, 0.5894207, 0.2223520...   \n",
       "mount-hulda-towersite        [-0.08747101, 0.015304513, 0.42483646, 0.36700...   \n",
       "\n",
       "                                                                       content  \\\n",
       "doc_id                                                                           \n",
       "fort-leonard-wood-towersite  Fort Leonard Wood Towersite, a captivating 66....   \n",
       "montauk-towersite            Montauk Towersite, located in the heart of pic...   \n",
       "summersville-towersite       The Summersville Tower site, nestled within th...   \n",
       "powell-towersite             Powell Towersite, nestled in the heart of Miss...   \n",
       "mount-hulda-towersite        Nestled within the lush landscapes of Missouri...   \n",
       "\n",
       "                             distance  \n",
       "doc_id                                 \n",
       "fort-leonard-wood-towersite  0.683900  \n",
       "montauk-towersite            0.673691  \n",
       "summersville-towersite       0.672326  \n",
       "powell-towersite             0.666780  \n",
       "mount-hulda-towersite        0.665762  "
      ]
     },
     "execution_count": 8,
     "metadata": {},
     "output_type": "execute_result"
    }
   ],
   "source": [
    "from sklearn.metrics.pairwise import cosine_similarity\n",
    "import numpy as np\n",
    "import pandas as pd\n",
    "\n",
    "top_n = 5\n",
    "query_text = \"Tower site wilderness retreat civil war\"\n",
    "\n",
    "query = dqm.ef(query_text).reshape(1, -1)\n",
    "\n",
    "embeddings = np.stack(dqm.data['embedding'].values)\n",
    "\n",
    "search = dqm.data.copy()\n",
    "search['distance'] = cosine_similarity(query, embeddings)[0]\n",
    "search.sort_values(by='distance', ascending=False).head(top_n)\n"
   ]
  },
  {
   "cell_type": "code",
   "execution_count": null,
   "metadata": {},
   "outputs": [],
   "source": []
  }
 ],
 "metadata": {
  "kernelspec": {
   "display_name": "jupyterenv",
   "language": "python",
   "name": "python3"
  },
  "language_info": {
   "codemirror_mode": {
    "name": "ipython",
    "version": 3
   },
   "file_extension": ".py",
   "mimetype": "text/x-python",
   "name": "python",
   "nbconvert_exporter": "python",
   "pygments_lexer": "ipython3",
   "version": "3.9.0"
  }
 },
 "nbformat": 4,
 "nbformat_minor": 2
}
