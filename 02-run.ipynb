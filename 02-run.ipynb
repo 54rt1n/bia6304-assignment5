{
 "cells": [
  {
   "cell_type": "code",
   "execution_count": 1,
   "metadata": {},
   "outputs": [
    {
     "data": {
      "text/plain": [
       "ChatManager(history=0 documents=98 config=ChatConfig(llm_provider='openai', model_url='http://10.100.0.57:5000/v1', api_key='12345', embedding_model='BAAI/bge-small-en-v1.5', db_path='notebook.pkl', system_message='You are a helpful assistant.', user_id='user', max_tokens=256, temperature=0.7, top_n=3, generations=1, presence=None, repetition=None, debug=False, stop_sequences=['You:', '<|im_end|>', '</s>']))"
      ]
     },
     "execution_count": 1,
     "metadata": {},
     "output_type": "execute_result"
    }
   ],
   "source": [
    "from assignment.chat import ChatManager\n",
    "from assignment.config import ChatConfig\n",
    "from assignment.dqm import DocumentQueryModel\n",
    "from assignment.llm import LLMProvider\n",
    "\n",
    "from IPython.display import clear_output\n",
    "\n",
    "config = ChatConfig(\n",
    "    embedding_model=\"BAAI/bge-small-en-v1.5\",\n",
    "    db_path=\"notebook.pkl\", # \n",
    "    system_message=\"You are a helpful assistant.\",\n",
    "    max_tokens = 256,\n",
    "    temperature = 0.7,\n",
    ")\n",
    "\n",
    "# You can put your keys above, but for security I load mine from .env\n",
    "env_config = ChatConfig.from_env()\n",
    "config.llm_provider = env_config.llm_provider\n",
    "config.api_key = env_config.api_key\n",
    "config.model_url = env_config.model_url\n",
    "\n",
    "llm = LLMProvider.from_config(config)\n",
    "dqm = DocumentQueryModel.from_config(config)\n",
    "cm = ChatManager(llm=llm, dqm=dqm, config=config, clear_output=lambda: clear_output())\n",
    "cm\n"
   ]
  },
  {
   "cell_type": "code",
   "execution_count": 2,
   "metadata": {},
   "outputs": [
    {
     "name": "stdout",
     "output_type": "stream",
     "text": [
      "\n",
      "Chat session ended.\n"
     ]
    }
   ],
   "source": [
    "\n",
    "# Run the chat loop\n",
    "cm.chat_loop()"
   ]
  }
 ],
 "metadata": {
  "kernelspec": {
   "display_name": "jupyterenv",
   "language": "python",
   "name": "python3"
  },
  "language_info": {
   "codemirror_mode": {
    "name": "ipython",
    "version": 3
   },
   "file_extension": ".py",
   "mimetype": "text/x-python",
   "name": "python",
   "nbconvert_exporter": "python",
   "pygments_lexer": "ipython3",
   "version": "3.9.0"
  }
 },
 "nbformat": 4,
 "nbformat_minor": 2
}
