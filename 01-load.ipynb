{
 "cells": [
  {
   "cell_type": "code",
   "execution_count": 1,
   "metadata": {},
   "outputs": [],
   "source": [
    "from assignment.dqm import DocumentQueryModel\n",
    "from assignment.config import ChatConfig\n",
    "\n",
    "config = ChatConfig(\n",
    "    embedding_model=\"BAAI/bge-small-en-v1.5\",\n",
    "    db_path=\"notebook.pkl\", # \n",
    ")\n",
    "\n",
    "dqm = DocumentQueryModel.from_config(config)"
   ]
  },
  {
   "cell_type": "code",
   "execution_count": null,
   "metadata": {},
   "outputs": [],
   "source": [
    "dqm.data"
   ]
  },
  {
   "cell_type": "code",
   "execution_count": 5,
   "metadata": {},
   "outputs": [],
   "source": [
    "dqm.load_jsonl(\"assets/area_results.jsonl\", id_key=\"area_id\", content_key=\"summary\")"
   ]
  },
  {
   "cell_type": "code",
   "execution_count": 6,
   "metadata": {},
   "outputs": [],
   "source": [
    "dqm.save()"
   ]
  },
  {
   "cell_type": "code",
   "execution_count": null,
   "metadata": {},
   "outputs": [],
   "source": [
    "dqm.query(\"Bolivar\")"
   ]
  },
  {
   "cell_type": "code",
   "execution_count": null,
   "metadata": {},
   "outputs": [],
   "source": [
    "from sklearn.metrics.pairwise import cosine_similarity\n",
    "import numpy as np\n",
    "import pandas as pd\n",
    "\n",
    "top_n = 5\n",
    "query_text = \"Tower site wilderness retreat civil war\"\n",
    "\n",
    "query = dqm.ef(query_text).reshape(1, -1)\n",
    "\n",
    "embeddings = np.stack(dqm.data['embedding'].values)\n",
    "\n",
    "search = dqm.data.copy()\n",
    "search['distance'] = cosine_similarity(query, embeddings)[0]\n",
    "search.sort_values(by='distance', ascending=False).head(top_n)\n"
   ]
  },
  {
   "cell_type": "code",
   "execution_count": null,
   "metadata": {},
   "outputs": [],
   "source": []
  }
 ],
 "metadata": {
  "kernelspec": {
   "display_name": "jupyterenv",
   "language": "python",
   "name": "python3"
  },
  "language_info": {
   "codemirror_mode": {
    "name": "ipython",
    "version": 3
   },
   "file_extension": ".py",
   "mimetype": "text/x-python",
   "name": "python",
   "nbconvert_exporter": "python",
   "pygments_lexer": "ipython3",
   "version": "3.12.3"
  }
 },
 "nbformat": 4,
 "nbformat_minor": 2
}
